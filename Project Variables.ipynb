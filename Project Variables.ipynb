{
 "cells": [
  {
   "cell_type": "raw",
   "id": "a07512ec-840f-431f-8ea7-4fea848d1604",
   "metadata": {},
   "source": [
    "// VARIABLES used in the program \n",
    "//\n",
    "// NAME \t\t\tDATATYPE \t\t\t\t\tPURPOSE\n",
    "//\n",
    "// PERSONAL INFORMATION\n",
    "//\n",
    "// studentID\t\tinto\t\t\t\t\tNumber assigned to student. \n",
    "// school\t\t\tdummy 0/1, bool\t\t\t1=school B (poor), 0= school A (wealthy)\n",
    "// gradelevel\t\tint\t\t\t\t\t\tDetermine grade level of child.\n",
    "// gender\t\t\tdummy 0/1, bool   \t\t1=male, 0=female\n",
    "// covidpos\t\t\tdummy 0/1\t\t\t\t1=child had Covid, 0=null\n",
    "// freelunch\t\tdummy 0/1\t\t\t\t1=takes free and reduced lunch, 0=null\n",
    "// timeperiod\t\tcategorical\t\t\t\t{0,1,2}=in-person learning, {3,4,5}=online learning\n",
    "// numcomputers\t\tinto\t\t\t\t\tDefines number of computers in child's home.\n",
    "// familysize \t\tint\t\t\t\t\t\tDefines size of family, parents and siblings\n",
    "// householdincome\tfloat\t\t\t\t\tHousehold income for child.\n",
    "// fathereduc \t\tcategorical \t\t\tSystem of values for highest level of father education\n",
    "//\t\t\t/*\n",
    "//\t\t\tno HS diploma \t\t0\t\t\t--\n",
    "//\t\t\tHigh School diploma 1\t\t\tHighest level of education is High School.\n",
    "//\t\t\tBachelor degre  \t2\t\t\t\" \" bachelors degree.\n",
    "//\t\t\tMaster's Degree\t\t3\t\t\t\" \" masters degree.\n",
    "//\t\t\tDoctoral Degree\t\t4\t\t\t\" \" PhD. \n",
    "//\t\t\t\\\\\n",
    "//\t\t\t\\\\\n",
    "//\t\t\tthen, if fathereduc=0, father did not finish High School.\n",
    "//\t\t\t*/\n",
    "// mothereduc \t\tcategorical \t\t\tSystem of values for highest level of mother education\n",
    "//\t\t\t/*\n",
    "//\t\t\tno HS diploma \t\t0\t\t\t--\n",
    "//\t\t\tHigh School diploma 1\t\t\tHighest level of education is High School.\n",
    "//\t\t\tBachelor degre  \t2\t\t\t\" \" bachelors degree.\n",
    "//\t\t\tMaster's Degree\t\t3\t\t\t\" \" masters degree.\n",
    "//\t\t\tDoctoral Degree\t\t4\t\t\t\" \" PhD. \n",
    "//\t\t\t\\\\\n",
    "//\t\t\t\\\\\n",
    "//\t\t\tthen, if mothereduc=0, mother did not finish High School.\n",
    "//\t\t\t*/\n",
    "//\n",
    "// SCHOOL PERFORMANCE INFORMATION\n",
    "//\n",
    "// readingscore\t    \tfloat\t\t\t\tScore for \"reading\" test in school.\n",
    "// writingscore \t\tfloat\t\t\t\tScore for \"writing\" test in school.\n",
    "// mathscore\t\t\tfloat \t\t\t\tScore for \"math\" test in school.\t\t\n",
    "// \n",
    "// STATE PERFORMANCE INFORMATION\n",
    "//\n",
    "// readingscoreSL\t\tfloat \t\t\t\tScore for \"reading\" test at state level. \n",
    "// writingscoreSL \t\tfloat\t\t\t\tScore for \"writing\" test at state level.\n",
    "// mathscoreSL\t\t\tfloat\t\t\t\tScore for \"math\" test at state level."
   ]
  },
  {
   "cell_type": "code",
   "execution_count": null,
   "id": "ff60e773-f642-422b-b568-cf5bb075d6fb",
   "metadata": {},
   "outputs": [],
   "source": []
  }
 ],
 "metadata": {
  "kernelspec": {
   "display_name": "Python 3 (ipykernel)",
   "language": "python",
   "name": "python3"
  },
  "language_info": {
   "codemirror_mode": {
    "name": "ipython",
    "version": 3
   },
   "file_extension": ".py",
   "mimetype": "text/x-python",
   "name": "python",
   "nbconvert_exporter": "python",
   "pygments_lexer": "ipython3",
   "version": "3.9.12"
  }
 },
 "nbformat": 4,
 "nbformat_minor": 5
}
